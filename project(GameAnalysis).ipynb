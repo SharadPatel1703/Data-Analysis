{
 "cells": [
  {
   "cell_type": "code",
   "id": "initial_id",
   "metadata": {
    "collapsed": true,
    "ExecuteTime": {
     "end_time": "2025-01-13T20:27:51.501888Z",
     "start_time": "2025-01-13T20:27:51.486180Z"
    }
   },
   "source": [
    "import numpy as np\n",
    "import pandas as pd\n",
    "import matplotlib.pyplot as plt\n",
    "import seaborn as sns\n",
    "from scipy.stats import iqr\n",
    "\n",
    "# Generate rich gaming dataset\n",
    "np.random.seed(42)\n",
    "\n",
    "gaming_data = {\n",
    "    'daily_active_users': np.concatenate([\n",
    "        np.random.normal(1000, 200, 200),    # Regular days\n",
    "        np.random.normal(2000, 300, 100),    # Weekends\n",
    "        np.random.normal(3000, 400, 50)      # Special events\n",
    "    ]),\n",
    "\n",
    "    'session_duration_mins': np.concatenate([\n",
    "        np.random.normal(20, 5, 150),        # Casual players\n",
    "        np.random.normal(60, 15, 150),       # Regular players\n",
    "        np.random.normal(180, 30, 50)        # Hardcore players\n",
    "    ]),\n",
    "\n",
    "    'in_game_purchases': np.concatenate([\n",
    "        np.random.exponential(5, 250),       # Small purchases\n",
    "        np.random.normal(50, 10, 100)        # Battle pass/Major items\n",
    "    ]),\n",
    "\n",
    "    'player_level': np.concatenate([\n",
    "        np.random.normal(10, 3, 100),        # New players\n",
    "        np.random.normal(30, 5, 150),        # Regular players\n",
    "        np.random.normal(70, 10, 100)        # Veterans\n",
    "    ]),\n",
    "\n",
    "    'matches_played': np.concatenate([\n",
    "        np.random.poisson(3, 200),           # Casual players\n",
    "        np.random.poisson(10, 150)           # Competitive players\n",
    "    ])\n",
    "}\n",
    "\n",
    "df = pd.DataFrame(gaming_data)"
   ],
   "outputs": [],
   "execution_count": 14
  },
  {
   "metadata": {
    "ExecuteTime": {
     "end_time": "2025-01-13T21:14:38.605106Z",
     "start_time": "2025-01-13T21:14:38.583308Z"
    }
   },
   "cell_type": "code",
   "source": "print(df.describe())",
   "id": "775786ca6ebf973c",
   "outputs": [
    {
     "name": "stdout",
     "output_type": "stream",
     "text": [
      "       daily_active_users  session_duration_mins  in_game_purchases  \\\n",
      "count          350.000000             350.000000         350.000000   \n",
      "mean          1574.170504              59.693193          18.111394   \n",
      "std            781.613616              54.792551          21.321402   \n",
      "min            476.050979               8.490394           0.055284   \n",
      "25%            961.862906              20.639101           2.208069   \n",
      "50%           1189.465625              45.327608           6.481960   \n",
      "75%           2148.279898              68.530370          38.183416   \n",
      "max           3836.954910             257.200794          71.632547   \n",
      "\n",
      "       player_level  matches_played  \n",
      "count    350.000000      350.000000  \n",
      "mean      36.142872        6.034286  \n",
      "std       23.940125        4.315491  \n",
      "min        1.454372        0.000000  \n",
      "25%       13.999205        2.250000  \n",
      "50%       30.457091        5.000000  \n",
      "75%       59.049238        9.000000  \n",
      "max       94.929995       21.000000  \n"
     ]
    }
   ],
   "execution_count": 28
  },
  {
   "metadata": {},
   "cell_type": "code",
   "outputs": [],
   "execution_count": null,
   "source": [
    "def stats(data):\n",
    "    indexes = ['mean', 'median', 'min', 'max', 'range', 'iqr', 'q1', 'q3', 'std', 'skewness', 'kurtosis', 'cv']\n",
    "    statsFrame = pd.DataFrame(columns=data.columns, index=indexes)\n",
    "\n",
    "    for col in data.columns:\n",
    "        statsFrame.loc['mean', col] = data[col].mean()\n",
    "        statsFrame.loc['median', col] = data[col].median()\n",
    "        statsFrame.loc['min', col] = data[col].min()\n",
    "        statsFrame.loc['max', col] = data[col].max()\n",
    "        statsFrame.loc['range', col] = data[col].max() - data[col].min()\n",
    "        statsFrame.loc['iqr', col] = iqr(data[col])\n",
    "        statsFrame.loc['q1', col] = data[col].quantile(0.25)\n",
    "        statsFrame.loc['q3', col] = data[col].quantile(0.75)\n",
    "        statsFrame.loc['std', col] = data[col].std()\n",
    "        statsFrame.loc['skewness', col] = data[col].skew()\n",
    "        statsFrame.loc['kurtosis', col] = data[col].kurt()\n",
    "        statsFrame.loc['cv', col] = (data[col].std() / data[col].mean()) * 100\n",
    "\n",
    "    return statsFrame\n",
    "\n",
    "summary_stats = stats(df)"
   ],
   "id": "b477dd6a4ec10e64"
  },
  {
   "metadata": {
    "ExecuteTime": {
     "end_time": "2025-01-13T21:14:56.037486Z",
     "start_time": "2025-01-13T21:14:56.029460Z"
    }
   },
   "cell_type": "code",
   "source": [
    "def visualizations(data):\n",
    "    plt.figure(figsize = (20,12))\n",
    "\n",
    "    for i, col in enumerate(data.columns, 1):\n",
    "        plt.subplot(3, 2, i)\n",
    "        sns.histplot(data[col], kde=True, stat='density')\n",
    "        plt.xlabel(col)\n",
    "        plt.ylabel('count')\n",
    "        plt.axvline(data[col].quantile(0.25), color='purple', linestyle=':', label='Q1')\n",
    "        plt.axvline(data[col].quantile(0.75), color='purple', linestyle=':', label='Q3')\n",
    "        plt.axvline(data[col].mean(), color='red', linestyle='--', label='Mean')\n",
    "        plt.axvline(data[col].median(), color='blue', linestyle='--', label='Median')\n",
    "        plt.axvline(data[col].mean() - data[col].std(), color='yellow', linestyle='--', label='Std. Dev -')\n",
    "        plt.axvline(data[col].mean() + data[col].std(), color='yellow', linestyle='--', label='Std. Dev +')\n",
    "        plt.legend()\n",
    "\n",
    "    plt.tight_layout()\n",
    "    plt.show()"
   ],
   "id": "cddfed4b942559a9",
   "outputs": [],
   "execution_count": 31
  },
  {
   "metadata": {},
   "cell_type": "markdown",
   "source": [
    "print(summary_stats.round(2))\n",
    "visualizations(df)"
   ],
   "id": "9f80c121ab3dc2d5"
  }
 ],
 "metadata": {
  "kernelspec": {
   "display_name": "Python 3",
   "language": "python",
   "name": "python3"
  },
  "language_info": {
   "codemirror_mode": {
    "name": "ipython",
    "version": 2
   },
   "file_extension": ".py",
   "mimetype": "text/x-python",
   "name": "python",
   "nbconvert_exporter": "python",
   "pygments_lexer": "ipython2",
   "version": "2.7.6"
  }
 },
 "nbformat": 4,
 "nbformat_minor": 5
}
