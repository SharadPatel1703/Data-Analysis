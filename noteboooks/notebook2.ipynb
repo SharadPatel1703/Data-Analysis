{
 "cells": [
  {
   "cell_type": "code",
   "id": "initial_id",
   "metadata": {
    "collapsed": true,
    "ExecuteTime": {
     "end_time": "2025-03-30T18:24:54.614347Z",
     "start_time": "2025-03-30T18:24:54.609347Z"
    }
   },
   "source": [
    "import pandas as pd\n",
    "import numpy as np\n",
    "from scipy.stats import chi2_contingency"
   ],
   "outputs": [],
   "execution_count": 4
  },
  {
   "metadata": {
    "ExecuteTime": {
     "end_time": "2025-03-30T18:24:56.075803Z",
     "start_time": "2025-03-30T18:24:56.040879Z"
    }
   },
   "cell_type": "code",
   "source": [
    "main_csv = pd.read_csv(\"D:/(JSN)DataScience/KaggleProjects/StudentPerfromance/Students_Grading_Dataset.csv\")\n",
    "df = main_csv.copy()"
   ],
   "id": "396863bc316e31c2",
   "outputs": [],
   "execution_count": 5
  },
  {
   "metadata": {
    "ExecuteTime": {
     "end_time": "2025-03-30T18:24:57.625016Z",
     "start_time": "2025-03-30T18:24:57.581438Z"
    }
   },
   "cell_type": "code",
   "source": [
    "\n",
    "# Here we will do Chi square tests to know, Whether student's field of study decision is dependent on family income or not\n",
    "# First we will create a cross tab which is necessary for chi square tests as it shows interactions between two different categories\n",
    "\n",
    "contingency_table = pd.crosstab(df['Department'], df['Family_Income_Level'])\n",
    "chi2, pval, dof, expected = chi2_contingency(contingency_table)\n",
    "\n",
    "if pval < 0.05:\n",
    "    print('There is relation between students choosing field of study and family income' )\n",
    "else:\n",
    "    print('Family income has no effect on a student choosing field of study')\n",
    "\n",
    "contingency_table_gender = pd.crosstab(df['Gender'], df['Department'])\n",
    "\n",
    "chi2_gender, pval_gender, dof_gender, expected_gender = chi2_contingency(contingency_table_gender)\n",
    "\n",
    "if pval_gender < 0.05:\n",
    "    print(f'Students choice of department depends on their gender: pval = {pval_gender}')\n",
    "else:\n",
    "    print(f'Students choice of department does not depend on their gender: pval = {pval_gender}')\n",
    "\n",
    "contingency_table_grades = pd.crosstab(df['Grade'], df['Stress_Level (1-10)'])\n",
    "\n",
    "chi2_grades, pval_grades, dof_grades, expected_grades = chi2_contingency(contingency_table_grades)\n",
    "\n",
    "if pval_grades < 0.05:\n",
    "    print('Stress has effect on students grades')\n",
    "else:\n",
    "    print('Stress has no effect on students grades')"
   ],
   "id": "394565300d69d1ae",
   "outputs": [
    {
     "name": "stdout",
     "output_type": "stream",
     "text": [
      "Family income has no effect on a student choosing field of study\n",
      "Students choice of department does not depend on their gender: pval = 0.7813784767159299\n",
      "Stress has no effect on students grades\n"
     ]
    }
   ],
   "execution_count": 6
  }
 ],
 "metadata": {
  "kernelspec": {
   "display_name": "Python 3",
   "language": "python",
   "name": "python3"
  },
  "language_info": {
   "codemirror_mode": {
    "name": "ipython",
    "version": 2
   },
   "file_extension": ".py",
   "mimetype": "text/x-python",
   "name": "python",
   "nbconvert_exporter": "python",
   "pygments_lexer": "ipython2",
   "version": "2.7.6"
  }
 },
 "nbformat": 4,
 "nbformat_minor": 5
}
