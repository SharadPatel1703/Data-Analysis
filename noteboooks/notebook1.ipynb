{
 "cells": [
  {
   "cell_type": "code",
   "id": "initial_id",
   "metadata": {
    "collapsed": true,
    "ExecuteTime": {
     "end_time": "2025-03-27T22:12:33.662753Z",
     "start_time": "2025-03-27T22:12:33.656791Z"
    }
   },
   "source": [
    "import pandas as pd\n",
    "import numpy as np\n",
    "from pandas import CategoricalDtype"
   ],
   "outputs": [],
   "execution_count": 14
  },
  {
   "metadata": {
    "ExecuteTime": {
     "end_time": "2025-03-27T21:58:35.668856Z",
     "start_time": "2025-03-27T21:58:35.607956Z"
    }
   },
   "cell_type": "code",
   "source": [
    "main_csv = pd.read_csv(\"D:/(JSN)DataScience/KaggleProjects/StudentPerfromance/Students_Grading_Dataset.csv\")\n",
    "df = main_csv.copy()\n",
    "print(df.info())"
   ],
   "id": "80e55491d8545fe1",
   "outputs": [
    {
     "name": "stdout",
     "output_type": "stream",
     "text": [
      "<class 'pandas.core.frame.DataFrame'>\n",
      "RangeIndex: 5000 entries, 0 to 4999\n",
      "Data columns (total 23 columns):\n",
      " #   Column                      Non-Null Count  Dtype  \n",
      "---  ------                      --------------  -----  \n",
      " 0   Student_ID                  5000 non-null   object \n",
      " 1   First_Name                  5000 non-null   object \n",
      " 2   Last_Name                   5000 non-null   object \n",
      " 3   Email                       5000 non-null   object \n",
      " 4   Gender                      5000 non-null   object \n",
      " 5   Age                         5000 non-null   int64  \n",
      " 6   Department                  5000 non-null   object \n",
      " 7   Attendance (%)              4484 non-null   float64\n",
      " 8   Midterm_Score               5000 non-null   float64\n",
      " 9   Final_Score                 5000 non-null   float64\n",
      " 10  Assignments_Avg             4483 non-null   float64\n",
      " 11  Quizzes_Avg                 5000 non-null   float64\n",
      " 12  Participation_Score         5000 non-null   float64\n",
      " 13  Projects_Score              5000 non-null   float64\n",
      " 14  Total_Score                 5000 non-null   float64\n",
      " 15  Grade                       5000 non-null   object \n",
      " 16  Study_Hours_per_Week        5000 non-null   float64\n",
      " 17  Extracurricular_Activities  5000 non-null   object \n",
      " 18  Internet_Access_at_Home     5000 non-null   object \n",
      " 19  Parent_Education_Level      3206 non-null   object \n",
      " 20  Family_Income_Level         5000 non-null   object \n",
      " 21  Stress_Level (1-10)         5000 non-null   int64  \n",
      " 22  Sleep_Hours_per_Night       5000 non-null   float64\n",
      "dtypes: float64(10), int64(2), object(11)\n",
      "memory usage: 898.6+ KB\n",
      "None\n"
     ]
    }
   ],
   "execution_count": 9
  },
  {
   "metadata": {
    "ExecuteTime": {
     "end_time": "2025-03-27T22:11:10.948071Z",
     "start_time": "2025-03-27T22:11:10.934997Z"
    }
   },
   "cell_type": "code",
   "source": [
    "print(df['Grade'].unique())\n",
    "print(df['Family_Income_Level'].unique())\n",
    "print(df['Stress_Level (1-10)'].unique())"
   ],
   "id": "24a40640b41730f1",
   "outputs": [
    {
     "name": "stdout",
     "output_type": "stream",
     "text": [
      "['F' 'A' 'D' 'B' 'C']\n",
      "['Medium' 'Low' 'High']\n",
      "[ 5  4  6  3  2  1  9 10  8  7]\n"
     ]
    }
   ],
   "execution_count": 12
  },
  {
   "metadata": {
    "ExecuteTime": {
     "end_time": "2025-03-27T22:12:38.272177Z",
     "start_time": "2025-03-27T22:12:38.248683Z"
    }
   },
   "cell_type": "code",
   "source": [
    "# In this notebook we will get some basic info about our dataset\n",
    "# Convert Department to category, Gender, Grade(Ordered), Family income level(Ordered), stress level(Ordered)\n",
    "df['Department'] = df['Department'].astype('category')\n",
    "df['Gender'] = df['Gender'].astype('category')\n",
    "df['Grade'] = df['Grade'].astype(CategoricalDtype(categories=['F', 'D', 'C', 'B', 'A'], ordered=True))\n",
    "df['Family_Income_Level'] = df['Family_Income_Level'].astype(CategoricalDtype(categories=['Low', 'Medium', 'High'], ordered=True))\n",
    "df['Stress_Level (1-10)'] = df['Stress_Level (1-10)'].astype(CategoricalDtype(categories=['1', '2', '3', '4', '5', '6', '7', '8', '9', '10'], ordered=True))"
   ],
   "id": "23e5105fc0791776",
   "outputs": [],
   "execution_count": 15
  },
  {
   "metadata": {
    "ExecuteTime": {
     "end_time": "2025-03-27T23:09:19.307054Z",
     "start_time": "2025-03-27T23:09:19.293918Z"
    }
   },
   "cell_type": "code",
   "source": [
    "# Function that will return all stats for our data\n",
    "\n",
    "def stats(data):\n",
    "    mean_age_Department = data.groupby('Department')['Age'].mean()\n",
    "    student_in_departments = data.groupby('Department').agg(\n",
    "        student_counts=('Department', 'count')\n",
    "    )\n",
    "\n",
    "    overall_avg_attendance = data['Attendance (%)'].mean()\n",
    "    attendance_by_dpt = data.groupby('Department')['Attendance (%)'].mean()\n",
    "\n",
    "    midTerm_avg_score = data['Midterm_Score'].mean()\n",
    "    mt_avg_dpt = data.groupby('Department')['Midterm_Score'].mean()\n",
    "\n",
    "    final_exam_avg_score = data['Final_Score'].mean()\n",
    "    final_exam_dpt = data.groupby('Department')['Final_Score'].mean()\n",
    "\n",
    "    participation_avg_score = data['Participation_Score'].mean()\n",
    "    participation_avg_dpt = data.groupby('Department')['Participation_Score'].mean()\n",
    "\n",
    "    project_avg_score = data['Projects_Score'].mean()\n",
    "    project_avg_dpt = data.groupby('Department')['Projects_Score'].mean()\n",
    "\n",
    "    total_avg_score = data['Total_Score'].mean()\n",
    "    total_avg_dpt = data.groupby('Department')['Total_Score'].mean()\n",
    "\n",
    "    avg_studyHrs = data['Study_Hours_per_Week'].mean()\n",
    "    avg_studyHrs_dpt = data.groupby('Department')['Study_Hours_per_Week'].mean()\n",
    "\n",
    "    common_grade = data['Grade'].mode()\n",
    "    common_grade_dpt = data.groupby('Department')['Grade'].agg(lambda x: x.mode().iloc[0])\n",
    "\n",
    "    common_stress_lvl = data['Stress_Level (1-10)'].mode()\n",
    "    avg_stress_dpt = data.groupby('Department')['Stress_Level (1-10)'].agg(lambda x: x.mode().iloc[0])\n",
    "\n",
    "    avg_sleepHrs = data['Sleep_Hours_per_Night'].mean()\n",
    "    avg_sleepHrs_dpt = data.groupby('Department')['Sleep_Hours_per_Night'].mean()\n",
    "\n",
    "    statistics = {\n",
    "        'mean_age_Department': mean_age_Department,\n",
    "        'student_in_departments': student_in_departments,\n",
    "        'overall_avg_attendance': overall_avg_attendance,\n",
    "        'attendance_by_dpt': attendance_by_dpt,\n",
    "        'midTerm_avg_score': midTerm_avg_score,\n",
    "        'mt_avg_dpt': mt_avg_dpt,\n",
    "        'final_exam_avg_score': final_exam_avg_score,\n",
    "        'final_exam_dpt': final_exam_dpt,\n",
    "        'project_avg_score': project_avg_score,\n",
    "        'project_avg_dpt': project_avg_dpt,\n",
    "        'total_avg_score': total_avg_score,\n",
    "        'total_avg_dpt': total_avg_dpt,\n",
    "        'avg_studyHrs': avg_studyHrs,\n",
    "        'avg_studyHrs_dpt': avg_studyHrs_dpt,\n",
    "        'common_grade': common_grade,\n",
    "        'common_grade_dpt': common_grade_dpt,\n",
    "        'common_stress_lvl': common_stress_lvl,\n",
    "        'avg_stress_dpt': avg_stress_dpt,\n",
    "        'avg_sleepHrs': avg_sleepHrs,\n",
    "    }\n",
    "    return statistics"
   ],
   "id": "f5709bd18b04e19c",
   "outputs": [],
   "execution_count": 31
  },
  {
   "metadata": {
    "ExecuteTime": {
     "end_time": "2025-03-27T23:26:00.490737Z",
     "start_time": "2025-03-27T23:26:00.435591Z"
    }
   },
   "cell_type": "code",
   "source": [
    "statistics = stats(main_csv)\n",
    "print(statistics)"
   ],
   "id": "53d717a6615781bd",
   "outputs": [
    {
     "name": "stdout",
     "output_type": "stream",
     "text": [
      "{'mean_age_Department': Department\n",
      "Business       21.007952\n",
      "CS             21.069238\n",
      "Engineering    21.049013\n",
      "Mathematics    21.043738\n",
      "Name: Age, dtype: float64, 'student_in_departments':              student_counts\n",
      "Department                 \n",
      "Business               1006\n",
      "CS                     2022\n",
      "Engineering            1469\n",
      "Mathematics             503, 'overall_avg_attendance': 75.431409455843, 'attendance_by_dpt': Department\n",
      "Business       75.361619\n",
      "CS             74.885055\n",
      "Engineering    76.149621\n",
      "Mathematics    75.681185\n",
      "Name: Attendance (%), dtype: float64, 'midTerm_avg_score': 70.326844, 'mt_avg_dpt': Department\n",
      "Business       69.683161\n",
      "CS             70.448595\n",
      "Engineering    70.527692\n",
      "Mathematics    70.538211\n",
      "Name: Midterm_Score, dtype: float64, 'final_exam_avg_score': 69.64078799999999, 'final_exam_dpt': Department\n",
      "Business       70.004155\n",
      "CS             69.083007\n",
      "Engineering    70.377733\n",
      "Mathematics    69.004036\n",
      "Name: Final_Score, dtype: float64, 'project_avg_score': 74.92485999999998, 'project_avg_dpt': Department\n",
      "Business       74.882972\n",
      "CS             74.909491\n",
      "Engineering    74.805800\n",
      "Mathematics    75.418131\n",
      "Name: Projects_Score, dtype: float64, 'total_avg_score': 75.121804, 'total_avg_dpt': Department\n",
      "Business       74.495060\n",
      "CS             75.396612\n",
      "Engineering    75.020088\n",
      "Mathematics    75.567654\n",
      "Name: Total_Score, dtype: float64, 'avg_studyHrs': 17.658859999999997, 'avg_studyHrs_dpt': Department\n",
      "Business       17.906461\n",
      "CS             17.703017\n",
      "Engineering    17.668550\n",
      "Mathematics    16.957853\n",
      "Name: Study_Hours_per_Week, dtype: float64, 'common_grade': 0    A\n",
      "Name: Grade, dtype: object, 'common_grade_dpt': Department\n",
      "Business       A\n",
      "CS             A\n",
      "Engineering    A\n",
      "Mathematics    A\n",
      "Name: Grade, dtype: object, 'common_stress_lvl': 0    4\n",
      "Name: Stress_Level (1-10), dtype: int64, 'avg_stress_dpt': Department\n",
      "Business       2\n",
      "CS             8\n",
      "Engineering    4\n",
      "Mathematics    2\n",
      "Name: Stress_Level (1-10), dtype: int64, 'avg_sleepHrs': 6.4881400000000005}\n"
     ]
    }
   ],
   "execution_count": 40
  }
 ],
 "metadata": {
  "kernelspec": {
   "display_name": "Python 3",
   "language": "python",
   "name": "python3"
  },
  "language_info": {
   "codemirror_mode": {
    "name": "ipython",
    "version": 2
   },
   "file_extension": ".py",
   "mimetype": "text/x-python",
   "name": "python",
   "nbconvert_exporter": "python",
   "pygments_lexer": "ipython2",
   "version": "2.7.6"
  }
 },
 "nbformat": 4,
 "nbformat_minor": 5
}
